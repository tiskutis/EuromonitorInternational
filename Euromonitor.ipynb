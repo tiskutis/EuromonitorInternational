{
  "nbformat": 4,
  "nbformat_minor": 0,
  "metadata": {
    "colab": {
      "name": "Euromonitor",
      "provenance": [],
      "authorship_tag": "ABX9TyOl91Bc7f0YHBUY01SsEXZ8",
      "include_colab_link": true
    },
    "kernelspec": {
      "name": "python3",
      "display_name": "Python 3"
    },
    "language_info": {
      "name": "python"
    },
    "accelerator": "GPU"
  },
  "cells": [
    {
      "cell_type": "markdown",
      "metadata": {
        "id": "view-in-github",
        "colab_type": "text"
      },
      "source": [
        "<a href=\"https://colab.research.google.com/github/tiskutis/EuromonitorInternational/blob/main/Euromonitor.ipynb\" target=\"_parent\"><img src=\"https://colab.research.google.com/assets/colab-badge.svg\" alt=\"Open In Colab\"/></a>"
      ]
    },
    {
      "cell_type": "markdown",
      "metadata": {
        "id": "SqcC1tAqXVpp"
      },
      "source": [
        "# Task\n",
        "You are given a training set for product type classification. The task is to build a model to predict the\n",
        "column label, using the other columns as input.\n",
        "\n",
        "Column explanations:\n",
        "- sku_id – product id\n",
        "- country_name – name of the country in which the product was found\n",
        "- retailer – name of the retailer in which the product was found\n",
        "- breadcrumbs – breadcrumbs, where breadcrumbs show the path of the product in the retailer\n",
        "taxonomy tree\n",
        "- breadcrumbs_t – translated breadcrumbs\n",
        "- name – name of the product\n",
        "- name_t – translated name\n",
        "- pack_size – pack size field of the product\n",
        "- pack_size_t – translated pack size\n",
        "- description_short – product description, possibly truncated to keep maximum length fixed\n",
        "- description_t_short – translated description\n",
        "- resnet50_labels_005 – categories predicted by an image classifier, thresholded at 0.05\n",
        "confidence, joined with '~'\n",
        "- resnet50_labels_06 – categories predicted by an image classifier, thresholded at 0.6 confidence\n",
        "- price – price of the product in USD\n",
        "- label – product type, this is the target to predict\n",
        "\n",
        "Keep in mind that some of the columns can contain noisy information and the translations are\n",
        "automatic. You do not have to use all the input columns to build a model.\n",
        "# Evaluation Criteria\n",
        "Your model will be evaluated based on:\n",
        "- Exploratory data analysis\n",
        "- Feature engineering\n",
        "- Machine learning fundamentals\n",
        "- Coding standards\n",
        "\n",
        "Ideally, your solution should consist of a notebook that explores the data, builds and validates the\n",
        "model with clear reasons why you made specific choices.\n",
        "\n"
      ]
    },
    {
      "cell_type": "markdown",
      "metadata": {
        "id": "kNnnKv4dZRQm"
      },
      "source": [
        "#Exploratory data analysis and feature engineering"
      ]
    },
    {
      "cell_type": "code",
      "metadata": {
        "id": "V_DlDQ2KXn_O"
      },
      "source": [
        "!pip install emoji pytorch-lightning transformers scikit-multilearn neptune-client"
      ],
      "execution_count": null,
      "outputs": []
    },
    {
      "cell_type": "code",
      "metadata": {
        "id": "LCkZM4_ZYxzz"
      },
      "source": [
        "import pandas as pd\n",
        "import numpy as np\n",
        "import matplotlib.pyplot as plt\n",
        "import seaborn as sns\n",
        "import spacy\n",
        "import re\n",
        "import emoji\n",
        "import string\n",
        "from nltk.tokenize import word_tokenize\n",
        "import nltk\n",
        "nltk.download('punkt')\n",
        "from transformers import RobertaConfig, RobertaForSequenceClassification, RobertaTokenizer\n",
        "import torch\n",
        "from torch.utils.data import Dataset, DataLoader\n",
        "import pytorch_lightning as pl\n",
        "from skmultilearn.model_selection import iterative_train_test_split\n",
        "\n",
        "from google.colab import drive\n",
        "drive.mount('/content/gdrive')"
      ],
      "execution_count": null,
      "outputs": []
    },
    {
      "cell_type": "code",
      "metadata": {
        "id": "igFPqxo3ZxN_"
      },
      "source": [
        "df_train = pd.read_csv('/content/gdrive/MyDrive/Euromonitor/train.csv')\n",
        "df_test = pd.read_csv('/content/gdrive/MyDrive/Euromonitor/test.csv')"
      ],
      "execution_count": 3,
      "outputs": []
    },
    {
      "cell_type": "code",
      "metadata": {
        "colab": {
          "base_uri": "https://localhost:8080/",
          "height": 302
        },
        "id": "giAXRdfQZ8EW",
        "outputId": "2c29dfd5-ed97-4293-af47-db172cca871d"
      },
      "source": [
        "df_train.head(3)"
      ],
      "execution_count": 4,
      "outputs": [
        {
          "output_type": "execute_result",
          "data": {
            "text/html": [
              "<div>\n",
              "<style scoped>\n",
              "    .dataframe tbody tr th:only-of-type {\n",
              "        vertical-align: middle;\n",
              "    }\n",
              "\n",
              "    .dataframe tbody tr th {\n",
              "        vertical-align: top;\n",
              "    }\n",
              "\n",
              "    .dataframe thead th {\n",
              "        text-align: right;\n",
              "    }\n",
              "</style>\n",
              "<table border=\"1\" class=\"dataframe\">\n",
              "  <thead>\n",
              "    <tr style=\"text-align: right;\">\n",
              "      <th></th>\n",
              "      <th>sku_id</th>\n",
              "      <th>country_name</th>\n",
              "      <th>retailer</th>\n",
              "      <th>breadcrumbs</th>\n",
              "      <th>breadcrumbs_t</th>\n",
              "      <th>name</th>\n",
              "      <th>name_t</th>\n",
              "      <th>pack_size</th>\n",
              "      <th>pack_size_t</th>\n",
              "      <th>description_short</th>\n",
              "      <th>description_t_short</th>\n",
              "      <th>resnet50_labels_005</th>\n",
              "      <th>resnet50_labels_06</th>\n",
              "      <th>price</th>\n",
              "      <th>label</th>\n",
              "      <th>label_id</th>\n",
              "    </tr>\n",
              "  </thead>\n",
              "  <tbody>\n",
              "    <tr>\n",
              "      <th>0</th>\n",
              "      <td>22790</td>\n",
              "      <td>USA</td>\n",
              "      <td>amazon</td>\n",
              "      <td>[\"\"Beauty &amp; Personal Care\"\",\"\"Tools &amp; Accessor...</td>\n",
              "      <td>[\"\"Beauty &amp; Personal Care\"\",\"\"Tools &amp; Accessor...</td>\n",
              "      <td>Q-tips Cotton Swabs, 170 ct</td>\n",
              "      <td>Q-tips Cotton Swabs, 170 ct</td>\n",
              "      <td>NaN</td>\n",
              "      <td>NaN</td>\n",
              "      <td>q-tips cotton swabs have a wide variety of use...</td>\n",
              "      <td>q-tips cotton swabs have a wide variety of use...</td>\n",
              "      <td>Band_Aid~can_opener~screwdriver</td>\n",
              "      <td>NaN</td>\n",
              "      <td>2.01000</td>\n",
              "      <td>OUT OF SCOPE</td>\n",
              "      <td>1</td>\n",
              "    </tr>\n",
              "    <tr>\n",
              "      <th>1</th>\n",
              "      <td>60540</td>\n",
              "      <td>USA</td>\n",
              "      <td>Chewy</td>\n",
              "      <td>[\"\"Dog\"\",\"\"Bowls &amp; Feeders\"\",\"\"Fountains &amp; Fil...</td>\n",
              "      <td>[\"\"Dog\"\",\"\"Bowls &amp; Feeders\"\",\"\"Fountains &amp; Fil...</td>\n",
              "      <td>Petmate Fresh Flow Replacement Filters, 6 count</td>\n",
              "      <td>Petmate Fresh Flow Replacement Filters, 6 count</td>\n",
              "      <td>8.3                         x 0.6             ...</td>\n",
              "      <td>8.3                         x 0.6             ...</td>\n",
              "      <td>description the petmate deluxe fresh flow repl...</td>\n",
              "      <td>description the petmate deluxe fresh flow repl...</td>\n",
              "      <td>Band_Aid~web_site</td>\n",
              "      <td>NaN</td>\n",
              "      <td>7.00000</td>\n",
              "      <td>OUT OF SCOPE</td>\n",
              "      <td>1</td>\n",
              "    </tr>\n",
              "    <tr>\n",
              "      <th>2</th>\n",
              "      <td>96170</td>\n",
              "      <td>United Kingdom</td>\n",
              "      <td>Asda</td>\n",
              "      <td>[\"\"Free From\"\",\"\"Free From Chilled &amp; Meat\"\",\"\"...</td>\n",
              "      <td>[\"\"Free From\"\",\"\"Free From Chilled &amp; Meat\"\",\"\"...</td>\n",
              "      <td>ASDA Free From Plain Soya Yogurt</td>\n",
              "      <td>ASDA Free From Plain Soya Yogurt</td>\n",
              "      <td>500g</td>\n",
              "      <td>500g</td>\n",
              "      <td>net content 500 grams ℮ lifestyle suitable for...</td>\n",
              "      <td>net content 500 grams ℮ lifestyle suitable for...</td>\n",
              "      <td>lotion~sunscreen</td>\n",
              "      <td>sunscreen</td>\n",
              "      <td>1.26185</td>\n",
              "      <td>Plain Yoghurt</td>\n",
              "      <td>7</td>\n",
              "    </tr>\n",
              "  </tbody>\n",
              "</table>\n",
              "</div>"
            ],
            "text/plain": [
              "   sku_id    country_name retailer  ...    price          label label_id\n",
              "0   22790             USA   amazon  ...  2.01000   OUT OF SCOPE        1\n",
              "1   60540             USA    Chewy  ...  7.00000   OUT OF SCOPE        1\n",
              "2   96170  United Kingdom     Asda  ...  1.26185  Plain Yoghurt        7\n",
              "\n",
              "[3 rows x 16 columns]"
            ]
          },
          "metadata": {},
          "execution_count": 4
        }
      ]
    },
    {
      "cell_type": "code",
      "metadata": {
        "colab": {
          "base_uri": "https://localhost:8080/"
        },
        "id": "B6V7DBuGbXSv",
        "outputId": "38fb06cb-c284-4720-98c6-9c85ca2bff93"
      },
      "source": [
        "df_train.shape"
      ],
      "execution_count": 5,
      "outputs": [
        {
          "output_type": "execute_result",
          "data": {
            "text/plain": [
              "(3983, 16)"
            ]
          },
          "metadata": {},
          "execution_count": 5
        }
      ]
    },
    {
      "cell_type": "markdown",
      "metadata": {
        "id": "V1xrE-qRaEu-"
      },
      "source": [
        "Since this is a NLP task and time recommended to spend on it is approximately 4 hours, there is not much time for experimentation with different models and/or data preprocessing approaches. I will try to complete this task intuitively using first ideas that come to my mind after seeing the dataset. \n",
        "\n",
        "Train dataset consists of 3983 rows with 16 columns, of which most important after first glance are these: breadcrumbs_t, name_t and description_t_short. _t here means that text is automatically translated, because original text contains not only english, but also russian, chinese etc. I think that these three columns contain all of the textual information I might need. Country_name and retailer are also text-based, but they look like categories to me. Still, it might be feasible to experiment with models incorporating these two columns into the text corpus and look for improvements in scores, but for now I will leave them and proceed with aforementioned three columns. Resnet labels could also be promising, but after looking into it I decided not to include them, because some of these labels in my opinion are misleading (e.g. yoghurt labeled as suncream). I will rely on pure text."
      ]
    },
    {
      "cell_type": "code",
      "metadata": {
        "id": "3tdWrr-MfCK-"
      },
      "source": [
        "def autolabel(bar_plot) -> None:\n",
        "    \"\"\"\n",
        "    Attach a text label above each bar displaying its height\n",
        "    \"\"\"\n",
        "    for p in bar_plot.patches:\n",
        "        bar_plot.annotate(format(p.get_height(), '.0f'), \n",
        "                       (p.get_x() + p.get_width() / 2., p.get_height()), \n",
        "                       ha = 'center', va = 'center', \n",
        "                       xytext = (0, 9), \n",
        "                       textcoords = 'offset points')"
      ],
      "execution_count": 19,
      "outputs": []
    },
    {
      "cell_type": "code",
      "metadata": {
        "colab": {
          "base_uri": "https://localhost:8080/",
          "height": 359
        },
        "id": "iKnqqyyyehHp",
        "outputId": "c9ffb64b-9209-4825-8b17-77c182706b3f"
      },
      "source": [
        "ax = df_train['label'].value_counts().sort_values(ascending=False).plot(kind='bar')\n",
        "plt.ylim(0,3800)\n",
        "autolabel(ax)"
      ],
      "execution_count": 30,
      "outputs": [
        {
          "output_type": "display_data",
          "data": {
            "image/png": "[encoded data removed]",
            "text/plain": [
              "<Figure size 432x288 with 1 Axes>"
            ]
          },
          "metadata": {
            "needs_background": "light"
          }
        }
      ]
    },
    {
      "cell_type": "markdown",
      "metadata": {
        "id": "TU058Ao6djNR"
      },
      "source": [
        "As can be seen from picture above, this dataset is severely imbalanced. It seems that the three main things this dataset works with are fragrances, dog food and yoghurt. However, the majority of values in this dataset are called OUT OF SCOPE, which means they are unrelated to any of the three. I will take a random sample of 200 rows from OUT OF SCOPE category to balance the dataset. Working with the original dataset would yield very good classification scores, but since majority of guesses would be on OUT OF SCOPE category, the results would reflect the underlying bias issue such model would have. \n",
        "\n",
        "I will divide the dataset into two subsets - one of them contains only minority categories and other - out of scope category with 200 random rows. Then I will concatenate both subsets into one and shuffle it with the help of sample(frac=1)."
      ]
    },
    {
      "cell_type": "code",
      "metadata": {
        "id": "WJ9T7_u_diPE"
      },
      "source": [
        "df_temp_not_out_of_scope = df_train[df_train['label_id']!=1]\n",
        "df_temp_out_of_scope = df_train[df_train['label_id']==1].sample(n=200)\n",
        "df_train_new = pd.concat([df_temp_not_out_of_scope, df_temp_out_of_scope]).sample(frac=1).reset_index(drop=True)"
      ],
      "execution_count": 32,
      "outputs": []
    },
    {
      "cell_type": "code",
      "metadata": {
        "colab": {
          "base_uri": "https://localhost:8080/",
          "height": 363
        },
        "id": "QrFqvk_mhrvn",
        "outputId": "327d210f-87c9-48a0-f2df-dae4c1e05a2c"
      },
      "source": [
        "ax = df_train_new['label'].value_counts().sort_values(ascending=False).plot(kind='bar')\n",
        "plt.ylim(0,250)\n",
        "autolabel(ax)"
      ],
      "execution_count": 34,
      "outputs": [
        {
          "output_type": "display_data",
          "data": {
            "image/png": "[encoded data removed]",
            "text/plain": [
              "<Figure size 432x288 with 1 Axes>"
            ]
          },
          "metadata": {
            "needs_background": "light"
          }
        }
      ]
    },
    {
      "cell_type": "markdown",
      "metadata": {
        "id": "nuEOxdQvh1NP"
      },
      "source": [
        "This seems to be better. Next step is to put  information from three relevant columns (name, breadcrumbs and description) into one chunk of text, which will be cleaned from excessive information with helper functions described below."
      ]
    },
    {
      "cell_type": "code",
      "metadata": {
        "id": "C4DuD2MzhxwG"
      },
      "source": [
        "sp = spacy.load('en_core_web_sm')\n",
        "\n",
        "\n",
        "def concatenate_text(row: pd.core.series.Series) -> pd.core.series.Series:\n",
        "  \"\"\"\n",
        "  This method takes breadcrumbs_t, description_t_short and name_t columns from\n",
        "  provided row and joins them together into a new column, called 'text_data'.\n",
        "  \"\"\"\n",
        "  text_parts = [row['breadcrumbs_t'], \n",
        "              row['description_t_short'],\n",
        "              row['name_t']]\n",
        "\n",
        "  row['text_data'] = ' '.join([text_part for text_part in text_parts \n",
        "                               if text_part is not np.nan])\n",
        "  return row\n",
        "\n",
        "\n",
        "def clean_text(text: str) -> str:\n",
        "    \"\"\"\n",
        "    This method lowers all words, removes all links, removes paragraph breaks,\n",
        "    removes digits, removes multiple spaces and removes punctuation signs.\n",
        "    \"\"\"\n",
        "\n",
        "    text = text.lower() \n",
        "    text = re.sub(\"https?://\\S+|www\\.\\S+\", \"\", text)  \n",
        "    text = re.sub(\"\\n\", \" \", text) \n",
        "    text = re.sub(\"\\w*\\d\\w*\", \"\", text)  \n",
        "    text = re.sub('[%s]' % re.escape(string.punctuation), ' ', text)\n",
        "    text = re.sub(\" {2,}\", \" \", text)  \n",
        "    return text\n",
        "\n",
        "\n",
        "def remove_stopwords(text: str, sp) -> str:\n",
        "    \"\"\"\n",
        "    This method removes stopwords from the text.\n",
        "    \"\"\"\n",
        "    text_tokens = word_tokenize(text)\n",
        "    tokens_without_sw= [word for word in text_tokens if not word in sp.Defaults.stop_words]\n",
        "\n",
        "    return \" \".join(tokens_without_sw)\n",
        "\n",
        "\n",
        "def expand_contracted_expressions(text: str) -> str:\n",
        "    \"\"\"\n",
        "    This method substitutes most common contracted expressions with full ones.\n",
        "    \"\"\"\n",
        "    text = re.sub(r\"what's\", \"what is \", text)\n",
        "    text = re.sub(r\"\\'s\", \" \", text)\n",
        "    text = re.sub(r\"\\'ve\", \" have \", text)\n",
        "    text = re.sub(r\"can't\", \"cannot \", text)\n",
        "    text = re.sub(r\"n't\", \" not \", text)\n",
        "    text = re.sub(r\"i'm\", \"i am \", text)\n",
        "    text = re.sub(r\"\\'re\", \" are \", text)\n",
        "    text = re.sub(r\"\\'d\", \" would \", text)\n",
        "    text = re.sub(r\"\\'ll\", \" will \", text)\n",
        "    text = re.sub(r\"\\'scuse\", \" excuse \", text)\n",
        "    text = re.sub('\\W', ' ', text)\n",
        "    text = re.sub('\\s+', ' ', text)\n",
        "    text = re.sub(r\"aren't\",\"are not\",text)\n",
        "    text = re.sub(r\"can't\",\"cannot\",text)\n",
        "    text = re.sub(r\"couldn't\",\"could not\",text)\n",
        "    text = re.sub(r\"didn't\",\"did not\",text)\n",
        "    text = re.sub(r\"doesn't\",\"does not\",text)\n",
        "    text = re.sub(r\"don't\",\"do not\",text)\n",
        "    text = re.sub(r\"hadn't\",\"had not\",text)\n",
        "    text = re.sub(r\"hasn't\",\"has not\",text)\n",
        "    text = re.sub(r\"haven't\",\"have not\",text)\n",
        "    text = re.sub(r\"he'd\",\"he would\",text)\n",
        "    text = re.sub(r\"he'll\",\"he will\",text)\n",
        "    text = re.sub(r\"he's\",\"he is\",text)\n",
        "    text = re.sub(r\"i'd\",\"I would\",text)\n",
        "    text = re.sub(r\"i'd\",\"I had\",text)\n",
        "    text = re.sub(r\"i'll\",\"I will\",text)\n",
        "    text = re.sub(r\"i'm\",\"I am\",text)\n",
        "    text = re.sub(r\"isn't\",\"is not\",text)\n",
        "    text = re.sub(r\"it's\",\"it is\",text)\n",
        "    text = re.sub(r\"it'll\",\"it will\",text)\n",
        "    text = re.sub(r\"i've\",\"I have\",text)\n",
        "    text = re.sub(r\"let's\",\"let us\",text)\n",
        "    text = re.sub(r\"mightn't\",\"might not\",text)\n",
        "    text = re.sub(r\"mustn't\",\"must not\",text)\n",
        "    text = re.sub(r\"shan't\",\"shall not\",text)\n",
        "    text = re.sub(r\"she'd\",\"she would\",text)\n",
        "    text = re.sub(r\"she'll\",\"she will\",text)\n",
        "    text = re.sub(r\"she's\",\"she is\",text)\n",
        "    text = re.sub(r\"shouldn't\",\"should not\",text)\n",
        "    text = re.sub(r\"that's\",\"that is\",text)\n",
        "    text = re.sub(r\"there's\",\"there is\",text)\n",
        "    text = re.sub(r\"they'd\",\"they would\",text)\n",
        "    text = re.sub(r\"they'll\",\"they will\",text)\n",
        "    text = re.sub(r\"they're\",\"they are\",text)\n",
        "    text = re.sub(r\"they've\",\"they have\",text)\n",
        "    text = re.sub(r\"we'd\",\"we would\",text)\n",
        "    text = re.sub(r\"we're\",\"we are\",text)\n",
        "    text = re.sub(r\"weren't\",\"were not\",text)\n",
        "    text = re.sub(r\"we've\",\"we have\",text)\n",
        "    text = re.sub(r\"what'll\",\"what will\",text)\n",
        "    text = re.sub(r\"what're\",\"what are\",text)\n",
        "    text = re.sub(r\"what's\",\"what is\",text)\n",
        "    text = re.sub(r\"what've\",\"what have\",text)\n",
        "    text = re.sub(r\"where's\",\"where is\",text)\n",
        "    text = re.sub(r\"who'd\",\"who would\",text)\n",
        "    text = re.sub(r\"who'll\",\"who will\",text)\n",
        "    text = re.sub(r\"who're\",\"who are\",text)\n",
        "    text = re.sub(r\"who's\",\"who is\",text)\n",
        "    text = re.sub(r\"who've\",\"who have\",text)\n",
        "    text = re.sub(r\"won't\",\"will not\",text)\n",
        "    text = re.sub(r\"wouldn't\",\"would not\",text)\n",
        "    text = re.sub(r\"you'd\",\"you would\",text)\n",
        "    text = re.sub(r\"you'll\",\"you will\",text)\n",
        "    text = re.sub(r\"you're\",\"you are\",text)\n",
        "    text = re.sub(r\"you've\",\"you have\",text)\n",
        "    text = re.sub(r\"'re\",\" are\",text)\n",
        "    text = re.sub(r\"wasn't\",\"was not\",text)\n",
        "    text = re.sub(r\"we'll\",\" will\",text)\n",
        "    text = re.sub(r\"didn't\",\"did not\",text)\n",
        "    text = re.sub(r\"tryin'\",\"trying\",text)\n",
        "    text = text.strip(' ')\n",
        "\n",
        "    return text"
      ],
      "execution_count": 42,
      "outputs": []
    },
    {
      "cell_type": "code",
      "metadata": {
        "id": "Kdxcvm2ljnVX"
      },
      "source": [
        "df_train_new = df_train_new.apply(concatenate_text, axis=1)\n",
        "df_train_new.text_data = df_train_new.text_data.apply(expand_contracted_expressions)\n",
        "df_train_new.text_data = df_train_new.text_data.apply(clean_text)\n",
        "df_train_new.text_data = df_train_new.text_data.apply(remove_stopwords, sp=sp)"
      ],
      "execution_count": 43,
      "outputs": []
    },
    {
      "cell_type": "code",
      "metadata": {
        "colab": {
          "base_uri": "https://localhost:8080/"
        },
        "id": "LaZ71z7njr1n",
        "outputId": "feb4bd54-cf87-49d6-d9a5-3e269518cb82"
      },
      "source": [
        "df_train_new.text_data.head()"
      ],
      "execution_count": 46,
      "outputs": [
        {
          "output_type": "execute_result",
          "data": {
            "text/plain": [
              "0    cool dairy products yogurt spoon enjoy creamy ...\n",
              "1    dairy eggs juice yogurts multipacks informatio...\n",
              "2    pet shop dogs foods ration royal canin ration ...\n",
              "3    scents water scent compositioncompositionanana...\n",
              "4    home perfumery women perfumes brand calvin kle...\n",
              "Name: text_data, dtype: object"
            ]
          },
          "metadata": {},
          "execution_count": 46
        }
      ]
    },
    {
      "cell_type": "markdown",
      "metadata": {
        "id": "tY6LN7WSkESW"
      },
      "source": [
        "One more thing before going to machine learning part - new column with text lengths. Let's see how text lengths are distributed."
      ]
    },
    {
      "cell_type": "code",
      "metadata": {
        "id": "gSXNaubGjsPA"
      },
      "source": [
        "df_train_new['text_length'] = df_train_new.text_data.apply(lambda x: len(x))"
      ],
      "execution_count": 47,
      "outputs": []
    },
    {
      "cell_type": "code",
      "metadata": {
        "colab": {
          "base_uri": "https://localhost:8080/",
          "height": 301
        },
        "id": "Dd0rsp6LkWv2",
        "outputId": "dda6f144-565c-4919-a66c-1e99855371ec"
      },
      "source": [
        "sns.histplot(data=df_train_new, x=\"text_length\")\n",
        "plt.xlim(0, 500)"
      ],
      "execution_count": 51,
      "outputs": [
        {
          "output_type": "execute_result",
          "data": {
            "text/plain": [
              "(0.0, 500.0)"
            ]
          },
          "metadata": {},
          "execution_count": 51
        },
        {
          "output_type": "display_data",
          "data": {
            "image/png": "[encoded data removed]",
            "text/plain": [
              "<Figure size 432x288 with 1 Axes>"
            ]
          },
          "metadata": {
            "needs_background": "light"
          }
        }
      ]
    },
    {
      "cell_type": "code",
      "metadata": {
        "colab": {
          "base_uri": "https://localhost:8080/"
        },
        "id": "S7Yqff-_kapi",
        "outputId": "a3e5ccfe-96de-4871-fb2a-f70de8a6fb30"
      },
      "source": [
        "df_train_new.text_length.describe()"
      ],
      "execution_count": 52,
      "outputs": [
        {
          "output_type": "execute_result",
          "data": {
            "text/plain": [
              "count     879.000000\n",
              "mean      208.312856\n",
              "std       244.576332\n",
              "min        37.000000\n",
              "25%       137.000000\n",
              "50%       212.000000\n",
              "75%       249.500000\n",
              "max      7055.000000\n",
              "Name: text_length, dtype: float64"
            ]
          },
          "metadata": {},
          "execution_count": 52
        }
      ]
    },
    {
      "cell_type": "markdown",
      "metadata": {
        "id": "o-vTZuRVk1Ej"
      },
      "source": [
        "From describe() function above we can see that at upper percentile (75%) text length is 249,5. This information is important for the upcoming model, because I will have to decide max sequence lenght that model accepts. Setting this value too high can lead to RAM overflow issues and too low might lead to a significant loss of information. However, seeing that at leat 75% of texts are at 250 or lower length, I can choose my max sequence lenght to be 256 as a sweet spot between performance and information loss. "
      ]
    },
    {
      "cell_type": "markdown",
      "metadata": {
        "id": "q44sc3J8nejg"
      },
      "source": [
        "#Machine learning"
      ]
    },
    {
      "cell_type": "markdown",
      "metadata": {
        "id": "onZOKL0vnidd"
      },
      "source": [
        "This is multinomial classification task so the current representation of target value is not convenient. Let's one-hot encode it."
      ]
    },
    {
      "cell_type": "code",
      "metadata": {
        "id": "l-0YPSTDknEd"
      },
      "source": [
        "df_train_new = pd.get_dummies(df_train_new, columns = ['label_id'], prefix='')"
      ],
      "execution_count": 53,
      "outputs": []
    },
    {
      "cell_type": "code",
      "metadata": {
        "colab": {
          "base_uri": "https://localhost:8080/",
          "height": 389
        },
        "id": "LM-l4XLWoTSG",
        "outputId": "684c79d4-fdde-400a-8412-a93a8c44b469"
      },
      "source": [
        "df_train_new.head(3)"
      ],
      "execution_count": 54,
      "outputs": [
        {
          "output_type": "execute_result",
          "data": {
            "text/html": [
              "<div>\n",
              "<style scoped>\n",
              "    .dataframe tbody tr th:only-of-type {\n",
              "        vertical-align: middle;\n",
              "    }\n",
              "\n",
              "    .dataframe tbody tr th {\n",
              "        vertical-align: top;\n",
              "    }\n",
              "\n",
              "    .dataframe thead th {\n",
              "        text-align: right;\n",
              "    }\n",
              "</style>\n",
              "<table border=\"1\" class=\"dataframe\">\n",
              "  <thead>\n",
              "    <tr style=\"text-align: right;\">\n",
              "      <th></th>\n",
              "      <th>sku_id</th>\n",
              "      <th>country_name</th>\n",
              "      <th>retailer</th>\n",
              "      <th>breadcrumbs</th>\n",
              "      <th>breadcrumbs_t</th>\n",
              "      <th>name</th>\n",
              "      <th>name_t</th>\n",
              "      <th>pack_size</th>\n",
              "      <th>pack_size_t</th>\n",
              "      <th>description_short</th>\n",
              "      <th>description_t_short</th>\n",
              "      <th>resnet50_labels_005</th>\n",
              "      <th>resnet50_labels_06</th>\n",
              "      <th>price</th>\n",
              "      <th>label</th>\n",
              "      <th>text_data</th>\n",
              "      <th>text_length</th>\n",
              "      <th>_1</th>\n",
              "      <th>_2</th>\n",
              "      <th>_3</th>\n",
              "      <th>_4</th>\n",
              "      <th>_5</th>\n",
              "      <th>_6</th>\n",
              "      <th>_7</th>\n",
              "    </tr>\n",
              "  </thead>\n",
              "  <tbody>\n",
              "    <tr>\n",
              "      <th>0</th>\n",
              "      <td>138335303</td>\n",
              "      <td>Austria</td>\n",
              "      <td>Billa</td>\n",
              "      <td>[\"\"Kühlwaren\"\",\"\"Milchprodukte\"\",\"\"Joghurt\"\"]</td>\n",
              "      <td>[\"\"cool were\"\",\"\"dairy products\"\",\"\"yogurt\"\"]</td>\n",
              "      <td>Ja! Natürlich Sommerfrisch Bio-Guave Fruchtjog...</td>\n",
              "      <td>yes! naturally Sommerfrisch Bio-guava fruit yo...</td>\n",
              "      <td>200 Gramm Becher</td>\n",
              "      <td>200 gram mug</td>\n",
              "      <td>löffeln und genießen: für das cremige bio-jo...</td>\n",
              "      <td>spoon and enjoy: for the creamy bio-yogurt bec...</td>\n",
              "      <td>bucket~paper_towel</td>\n",
              "      <td>NaN</td>\n",
              "      <td>0.779976</td>\n",
              "      <td>Flavoured Yoghurt</td>\n",
              "      <td>cool dairy products yogurt spoon enjoy creamy ...</td>\n",
              "      <td>174</td>\n",
              "      <td>0</td>\n",
              "      <td>0</td>\n",
              "      <td>0</td>\n",
              "      <td>0</td>\n",
              "      <td>0</td>\n",
              "      <td>1</td>\n",
              "      <td>0</td>\n",
              "    </tr>\n",
              "    <tr>\n",
              "      <th>1</th>\n",
              "      <td>12539432</td>\n",
              "      <td>United Kingdom</td>\n",
              "      <td>sainsburys</td>\n",
              "      <td>[\"\"Dairy, eggs &amp; juice\"\",\"\"Yogurts\"\",\"\"Multipa...</td>\n",
              "      <td>[\"\"Dairy, eggs &amp; juice\"\",\"\"Yogurts\"\",\"\"Multipa...</td>\n",
              "      <td>Alpro Yogurt Alternative Blackcurrant, Elderfl...</td>\n",
              "      <td>Alpro Yogurt Alternative Blackcurrant, Elderfl...</td>\n",
              "      <td>NaN</td>\n",
              "      <td>NaN</td>\n",
              "      <td>information description fermented soya product...</td>\n",
              "      <td>information description fermented soya product...</td>\n",
              "      <td>nipple~packet~paper_towel~strawberry~vending_m...</td>\n",
              "      <td>NaN</td>\n",
              "      <td>2.397515</td>\n",
              "      <td>Flavoured Yoghurt</td>\n",
              "      <td>dairy eggs juice yogurts multipacks informatio...</td>\n",
              "      <td>270</td>\n",
              "      <td>0</td>\n",
              "      <td>0</td>\n",
              "      <td>0</td>\n",
              "      <td>0</td>\n",
              "      <td>0</td>\n",
              "      <td>1</td>\n",
              "      <td>0</td>\n",
              "    </tr>\n",
              "    <tr>\n",
              "      <th>2</th>\n",
              "      <td>57160696</td>\n",
              "      <td>Brazil</td>\n",
              "      <td>Submarino</td>\n",
              "      <td>[\"\"Pet Shop\"\",\"\"Cães\"\",\"\"Alimentos\"\",\"\"Ração\"\"]</td>\n",
              "      <td>[\"\"Pet Shop\"\",\"\"dogs\"\",\"\"foods\"\",\"\"ration\"\"]</td>\n",
              "      <td>Royal Canin Hypoallergenic Small 2kg</td>\n",
              "      <td>Royal Canin Hypoallergenic Small 2kg</td>\n",
              "      <td>NaN</td>\n",
              "      <td>NaN</td>\n",
              "      <td>a ração royal canin canine veterinary diet h...</td>\n",
              "      <td>the royal canin ration canine veterinary diet ...</td>\n",
              "      <td>can_opener~packet~paper_towel~plastic_bag~soap...</td>\n",
              "      <td>NaN</td>\n",
              "      <td>18.643160</td>\n",
              "      <td>Dry Dog Food</td>\n",
              "      <td>pet shop dogs foods ration royal canin ration ...</td>\n",
              "      <td>213</td>\n",
              "      <td>0</td>\n",
              "      <td>1</td>\n",
              "      <td>0</td>\n",
              "      <td>0</td>\n",
              "      <td>0</td>\n",
              "      <td>0</td>\n",
              "      <td>0</td>\n",
              "    </tr>\n",
              "  </tbody>\n",
              "</table>\n",
              "</div>"
            ],
            "text/plain": [
              "      sku_id    country_name    retailer  ... _5 _6 _7\n",
              "0  138335303         Austria       Billa  ...  0  1  0\n",
              "1   12539432  United Kingdom  sainsburys  ...  0  1  0\n",
              "2   57160696          Brazil   Submarino  ...  0  0  0\n",
              "\n",
              "[3 rows x 24 columns]"
            ]
          },
          "metadata": {},
          "execution_count": 54
        }
      ]
    },
    {
      "cell_type": "markdown",
      "metadata": {
        "id": "6ienk1otoWLn"
      },
      "source": [
        "Each of the existing labels now have its own column with value being either 0 or 1. 1 means that that label is the correct one for that row and everything else is 0. Now features and labels will be split into train and validation subsets with the help of iterative train test (validation in this case) split. Since there are some differences in category quantities, main idea behind iterative split is to try to keep the existing balance for train and validation subsets. It might not be perfect, but at least split is not random."
      ]
    },
    {
      "cell_type": "code",
      "metadata": {
        "id": "S6Z2LK6WoUGT"
      },
      "source": [
        "targets = [\"_1\", \"_2\",\"_3\", \"_4\", \"_5\", \"_6\", \"_7\"]\n",
        "\n",
        "features = df_train_new[[\"text_data\"]]\n",
        "labels = df_train_new[targets]\n",
        "\n",
        "X_train, y_train, X_val, y_val = iterative_train_test_split(\n",
        "    features.values, labels.values, test_size=0.2\n",
        ")\n",
        "\n",
        "X_train = pd.DataFrame(X_train, columns=features.columns)\n",
        "X_val = pd.DataFrame(X_val, columns=features.columns)\n",
        "y_train = pd.DataFrame(y_train, columns=labels.columns)\n",
        "y_val = pd.DataFrame(y_val, columns=labels.columns)\n",
        "\n",
        "df_train = pd.concat([X_train, y_train], axis=1)\n",
        "df_val = pd.concat([X_val, y_val], axis=1)"
      ],
      "execution_count": 56,
      "outputs": []
    },
    {
      "cell_type": "markdown",
      "metadata": {
        "id": "PwNW70mEqYBO"
      },
      "source": [
        "## Model and data preparation\n",
        "\n",
        "For this task my choice is RoBERTa model. Of course, using deep learning on such a small dataset might seem like a bit of an overkill, but using transfer learning in the past seemed to be fun and in most cases it went well, besides, I would imagine that dataset for this task is a small part of huge flows of data Euromonitor has to deal with every day. With the increase in amount of data, deep learning approach seems to be more favored, so I continue with scalability in mind. \n",
        "\n",
        "Code for processing data samples can get messy and hard to maintain, so I want my dataset code to be decoupled from my model training code for better readability and modularity. PyTorch provides two data primitives: torch.utils.data.DataLoader and torch.utils.data.Dataset that allow me to use pre-loaded datasets as well as my own data. Dataset stores the samples and their corresponding labels and DataLoader wraps an iterable around the Dataset to enable easy access to the samples.\n",
        "\n",
        "A custom Dataset class must implement three functions: init, len, and getitem.\n",
        "\n",
        "- The init function is run once when instantiating the Dataset object. In this case passed dataframe is initialized.\n",
        "- The len function returns the number of samples in our dataset.\n",
        "- The get_item function loads and returns a sample from the dataset at the given index idx. Based on the index, it identifies the sample's location in the dataframe, takes idx'th row, separates features from target variable and returns them in a form of dictionary."
      ]
    },
    {
      "cell_type": "code",
      "metadata": {
        "id": "6768vZzWqZDW"
      },
      "source": [
        "class ProductDescription(Dataset):\n",
        "\n",
        "\n",
        "    def __init__(self, df: pd.DataFrame, max_sequence_length: int = 256):\n",
        "        self.tokenizer =  RobertaTokenizer.from_pretrained(\"roberta-base\", do_lower_case=True)\n",
        "        self.df = df\n",
        "        self.max_sequence_length = max_sequence_length\n",
        "        self.targets = [\"_1\", \"_2\",\"_3\", \"_4\", \"_5\", \"_6\", \"_7\"]\n",
        "        \n",
        "\n",
        "    def __len__(self) -> int:\n",
        "        return len(self.df)\n",
        "\n",
        "\n",
        "    def __getitem__(self, idx) -> dict:\n",
        "        if torch.is_tensor(idx):\n",
        "            idx = idx.tolist()\n",
        "\n",
        "        encoded = self.tokenizer.encode_plus(\n",
        "            text=self.df.loc[idx, \"text_data\"],                      \n",
        "            add_special_tokens = True, \n",
        "            max_length = self.max_sequence_length,\n",
        "            padding = 'max_length',\n",
        "            return_attention_mask = True,\n",
        "            pad_to_max_length = False,\n",
        "            truncation = True,\n",
        "            return_tensors = 'pt',\n",
        "        )\n",
        "        \n",
        "        encoded = {k:v.squeeze(0) for k,v in encoded.items()}\n",
        "        \n",
        "        try:\n",
        "            labels = self.df.loc[idx, self.targets]\n",
        "            encoded['label'] = torch.FloatTensor(labels)\n",
        "            return encoded\n",
        "        \n",
        "        except:\n",
        "            return encoded"
      ],
      "execution_count": 58,
      "outputs": []
    },
    {
      "cell_type": "code",
      "metadata": {
        "id": "NP-tOIDMt2WB"
      },
      "source": [
        "example = ProductDescription(df_train)[0]\n",
        "assert \"input_ids\" in example.keys()\n",
        "assert \"attention_mask\" in example.keys()\n",
        "assert \"label\" in example.keys()\n",
        "assert isinstance(example['input_ids'], torch.Tensor)"
      ],
      "execution_count": null,
      "outputs": []
    },
    {
      "cell_type": "markdown",
      "metadata": {
        "id": "QFE2RVRstvQ1"
      },
      "source": [
        "Classifier will be built using Pytorch Lightning. PyTorch Lightning is a library that provides a high-level interface for PyTorch and helps organize code as well as reduces boilerplate. By abstracting away engineering code, it makes deep learning experiments easier to reproduce and improves developer productivity.\n",
        "\n"
      ]
    },
    {
      "cell_type": "code",
      "metadata": {
        "id": "QQWGzkPEtvkn"
      },
      "source": [
        "class ProductClassifier(pl.LightningModule):\n",
        "\n",
        "    \n",
        "    def __init__(self):\n",
        "      super().__init__()\n",
        "      config = RobertaConfig.from_pretrained(\"roberta-base\", num_labels=7)\n",
        "      self.model = RobertaForSequenceClassification.from_pretrained(\"roberta-base\", \n",
        "                                                                    config=config)\n",
        "      self.lr = 1e-3\n",
        "      self.criterion = torch.nn.BCELoss()\n",
        "      self.batch_size = 32\n",
        "      self.base_grad(requires_grad = False)\n",
        "\n",
        "        \n",
        "    def base_grad(self, requires_grad: bool) -> None:\n",
        "      \"\"\"\n",
        "      This method is used for enabling of disabling gradients for the model.\n",
        "      \"\"\"\n",
        "      for param in self.model.base_model.parameters():\n",
        "          param.requires_grad = requires_grad\n",
        "\n",
        "\n",
        "    def forward(self, input_ids: torch.Tensor, attention_mask: torch.Tensor, labels: torch.Tensor = None):\n",
        "      \"\"\"\n",
        "      This method sends data through neural network and receives predictions.\n",
        "      If provided labels are not None, loss is calculated and returned with\n",
        "      predictions. If labels are None, only predictions are returned.\n",
        "      \"\"\"\n",
        "      predictions = self.model(input_ids, attention_mask=attention_mask, return_dict=True)\n",
        "      predictions = torch.sigmoid(predictions.logits)\n",
        "      if labels is not None:\n",
        "          loss = self.criterion(predictions, labels)\n",
        "          return loss, predictions\n",
        "      return predictions\n",
        "\n",
        "    \n",
        "    def training_step(self, batch: dict, batch_idx: int) -> dict:\n",
        "      \"\"\"\n",
        "      This method receives batch information during training phase and sends \n",
        "      it to forward method, which gives back loss and prediction values.\n",
        "      \"\"\"\n",
        "      input_ids = batch[\"input_ids\"]\n",
        "      attention_mask = batch[\"attention_mask\"]\n",
        "      labels = batch[\"label\"]\n",
        "      loss, predictions = self(input_ids, attention_mask, labels)\n",
        "\n",
        "      return {\"loss\": loss, \"predictions\": predictions, \"labels\": labels}\n",
        "\n",
        "    \n",
        "    def validation_step(self, val_batch: dict, batch_idx: int) -> dict:\n",
        "      \"\"\"\n",
        "      This method receives batch information during validation phase and sends \n",
        "      it to forward method, which gives back loss and prediction values.\n",
        "      \"\"\"\n",
        "      input_ids = val_batch[\"input_ids\"]\n",
        "      attention_mask = val_batch[\"attention_mask\"]\n",
        "      labels = val_batch[\"label\"]\n",
        "      loss, predictions = self(input_ids, attention_mask, labels)\n",
        "      \n",
        "      return {\"val_loss\": loss, \"predictions\": predictions, \"labels\": labels}\n",
        "\n",
        "    \n",
        "    def configure_optimizers(self) -> torch.optim.Optimizer:\n",
        "      \"\"\"\n",
        "      This method is required by the framework to setup optimizer for the model.\n",
        "      \"\"\"\n",
        "      optimizer = torch.optim.Adam(self.parameters(), \n",
        "                                    lr=self.lr)\n",
        "      return optimizer\n",
        "    \n",
        "    \n",
        "    def train_dataloader(self) -> DataLoader:\n",
        "      \"\"\"\n",
        "      This method sets up the training data with help of Dataset class. Data is \n",
        "      then wrapped with DataLoader class, which provides iterable and sends data\n",
        "      in batches. \n",
        "      \"\"\"\n",
        "      dataset = ProductDescription(df_train)\n",
        "      loader = DataLoader(dataset, \n",
        "                          batch_size=self.batch_size, \n",
        "                          shuffle=True, \n",
        "                          num_workers=2)\n",
        "      \n",
        "      return loader\n",
        "    \n",
        "    \n",
        "    def val_dataloader(self) -> DataLoader:\n",
        "      \"\"\"\n",
        "      This method sets up the validation data with help of Dataset class. Data \n",
        "      is then wrapped with DataLoader class, which provides iterable and sends\n",
        "      data in batches. \n",
        "      \"\"\"\n",
        "      dataset = ProductDescription(df_val)\n",
        "      loader = DataLoader(dataset, \n",
        "                          batch_size=self.batch_size, \n",
        "                          shuffle=False, \n",
        "                          num_workers=2)\n",
        "      \n",
        "      return loader\n",
        "    \n",
        "    \n",
        "    def training_epoch_end(self, outputs: dict) -> None:\n",
        "      \"\"\"\n",
        "      Contains the outputs of the training_step, collected for all batches \n",
        "      over the epoch.\n",
        "      Tracks the progress of the entire epoch by calculating average loss.\n",
        "      \"\"\"\n",
        "      avg_loss = torch.stack([x[\"loss\"] for x in outputs]).mean()\n",
        "      neptune_logger[\"train_loss\"].log(avg_loss)\n",
        "\n",
        "\n",
        "    def validation_epoch_end(self, outputs: dict) -> None:\n",
        "      \"\"\"\n",
        "      Contains the outputs of the validation_step, collected for all batches \n",
        "      over the epoch.\n",
        "      Tracks the progress of the entire epoch by calculating average loss.\n",
        "      \"\"\"\n",
        "      avg_loss = torch.stack([output[\"val_loss\"] for output in outputs]).mean()\n",
        "      neptune_logger[\"val_loss\"].log(avg_loss)"
      ],
      "execution_count": 62,
      "outputs": []
    },
    {
      "cell_type": "markdown",
      "metadata": {
        "id": "Hn6VAVysz_sI"
      },
      "source": [
        "## Training"
      ]
    },
    {
      "cell_type": "code",
      "metadata": {
        "id": "TlZtCyDiwzc3"
      },
      "source": [
        "def train(model, epochs: int, lr: float) -> pl.Trainer:\n",
        "    \"\"\"\n",
        "    Models' learning rate is set to provided value, pl.Trainer object is \n",
        "    initiated and model is fit. Returns trainer object, which contains trained\n",
        "    model.\n",
        "    \"\"\"\n",
        "    model.lr = lr\n",
        "    trainer = pl.Trainer(max_epochs=epochs, \n",
        "                         gpus=torch.cuda.device_count())\n",
        "    trainer.fit(model)\n",
        "\n",
        "    return trainer\n",
        "\n",
        "\n",
        "def train_and_save(train_epochs: int = 10, \n",
        "                   finetune_epochs: int = 10, \n",
        "                   train_lr: float = 1e-3,  \n",
        "                   finetune_lr: float = 1e-5) -> None:\n",
        "    \"\"\"\n",
        "    Initializes the model and trains it for provided number of epochs.\n",
        "    After training gradients are enabled for finetuning for provided number of\n",
        "    finetune epochs. After finetuning model is saved locally.\n",
        "    \"\"\"\n",
        "    model = ProductClassifier()\n",
        "    train(model, epochs=train_epochs, lr=train_lr)\n",
        "    model.base_grad(True)\n",
        "    trainer = train(model, epochs=finetune_epochs, lr=finetune_lr)\n",
        "\n",
        "    trainer.save_checkpoint('RobertaModel')"
      ],
      "execution_count": 63,
      "outputs": []
    },
    {
      "cell_type": "markdown",
      "metadata": {
        "id": "wqAFIPrkyBOd"
      },
      "source": [
        "The majority of this project is done in google colab, however, there are some ongoing issues on this platform with gpu usage and runtime connection, so I trained the model on Kaggle platform and downloaded it into my google drive. Since model is not trained here, I will provide train and validation loss graph instead."
      ]
    },
    {
      "cell_type": "code",
      "metadata": {
        "colab": {
          "base_uri": "https://localhost:8080/",
          "height": 295
        },
        "id": "3CgS5mdSx_zK",
        "outputId": "3ed84716-2bc3-4e0f-b1d7-2f9758d90dd8"
      },
      "source": [
        "with open('/content/gdrive/MyDrive/Euromonitor/val_loss EI.csv', 'r') as f:\n",
        "  with open('/content/gdrive/MyDrive/Euromonitor/train_loss EI.csv', 'r') as g:\n",
        "\n",
        "    lines_val = f.readlines()\n",
        "    lines_train = g.readlines()\n",
        "    x1 = [float(line.split(\",\")[0]) for line in lines_val]\n",
        "    x2 = [float(line.split(\",\")[0]) for line in lines_train]\n",
        "    y1 = [float(line.split(\",\")[2]) for line in lines_val]\n",
        "    y2 = [float(line.split(\",\")[2]) for line in lines_train]\n",
        "\n",
        "plt.plot(x1, y1, label=\"train loss\")\n",
        "plt.plot(x2, y2, label=\"val loss\")\n",
        "plt.xlabel('Epoch')\n",
        "plt.ylabel('Average loss')\n",
        "plt.title(\"Train and validation losses for RoBERTa model\")\n",
        "plt.legend(loc=\"upper right\")\n",
        "plt.show()"
      ],
      "execution_count": 66,
      "outputs": [
        {
          "output_type": "display_data",
          "data": {
            "image/png": "[encoded data removed]",
            "text/plain": [
              "<Figure size 432x288 with 1 Axes>"
            ]
          },
          "metadata": {
            "needs_background": "light"
          }
        }
      ]
    },
    {
      "cell_type": "markdown",
      "metadata": {
        "id": "JEsQUx1G0Bou"
      },
      "source": [
        "## Testing"
      ]
    },
    {
      "cell_type": "code",
      "metadata": {
        "id": "hfWvt8-AypyI"
      },
      "source": [
        "device = \"cuda\" if torch.cuda.is_available() else \"cpu\"\n",
        "\n",
        "model = ProductClassifier().load_from_checkpoint(\"/content/gdrive/MyDrive/Euromonitor/RobertaModel\")\n",
        "model.eval().to(device)"
      ],
      "execution_count": null,
      "outputs": []
    },
    {
      "cell_type": "markdown",
      "metadata": {
        "id": "7648MlLi0J_E"
      },
      "source": [
        "Test data processing is similar to train - concatenate text and clean it. After cleaning, data is set up with the help of Dataset class and wrapped by Dataloader. After these steps data is ready to be accepted by the classifier. "
      ]
    },
    {
      "cell_type": "code",
      "metadata": {
        "id": "nGfBAzzR0ISn"
      },
      "source": [
        "df_test = df_test.apply(concatenate_text, axis=1)\n",
        "df_test.text_data = df_test.text_data.apply(expand_contracted_expressions)\n",
        "df_test.text_data = df_test.text_data.apply(clean_text)\n",
        "df_test.text_data = df_test.text_data.apply(remove_stopwords, sp=sp)"
      ],
      "execution_count": 68,
      "outputs": []
    },
    {
      "cell_type": "code",
      "metadata": {
        "id": "OIe6aN8y0i2f"
      },
      "source": [
        "test_loader = DataLoader(ProductDescription(df_test), batch_size=32, shuffle=False, num_workers=2)"
      ],
      "execution_count": 69,
      "outputs": []
    },
    {
      "cell_type": "code",
      "metadata": {
        "id": "MsCkAh9t0lFx"
      },
      "source": [
        "y_pred = []\n",
        "\n",
        "with torch.no_grad():\n",
        "    for i, batch in enumerate(test_loader):\n",
        "        batch = {k: v.to(device) for k, v in batch.items()}\n",
        "        predictions = model(batch[\"input_ids\"], batch[\"attention_mask\"])\n",
        "        y_pred.append(predictions)"
      ],
      "execution_count": 70,
      "outputs": []
    },
    {
      "cell_type": "markdown",
      "metadata": {
        "id": "Aq2u1rd_029g"
      },
      "source": [
        "After predictions are made, they are sent to cpu if they were on gpu device. Predictions are in the form of a tensor with torch.Size([7]) - 7 elements (that is how many categories there are available for prediction). Since these elements are probabilities of category being the right one, we choose the highest value with torch.argmax() function and retrieve the index value. Because index counting begins at 0 and the lowest category number is 1, we have to shift all predictions by +1. After doing so predictions are ready to be put into csv and submitted for evaluation."
      ]
    },
    {
      "cell_type": "code",
      "metadata": {
        "id": "0iKttOBa02Ol"
      },
      "source": [
        "y_preds = torch.cat(y_pred).to('cpu')"
      ],
      "execution_count": 71,
      "outputs": []
    },
    {
      "cell_type": "code",
      "metadata": {
        "id": "MfTSReZt1KyK"
      },
      "source": [
        "y_preds = [int(torch.argmax(y_pred)+1) for y_pred in y_preds]"
      ],
      "execution_count": 80,
      "outputs": []
    },
    {
      "cell_type": "code",
      "metadata": {
        "colab": {
          "base_uri": "https://localhost:8080/",
          "height": 237
        },
        "id": "hKpMRaib3NMS",
        "outputId": "e1dd4799-bc7a-4029-8985-214f20d874d8"
      },
      "source": [
        "template = pd.read_csv('/content/gdrive/MyDrive/Euromonitor/test_pred_template.csv')\n",
        "template.set_index('sku_id', inplace=True)\n",
        "template['label_id'] = y_preds\n",
        "template.head()"
      ],
      "execution_count": 83,
      "outputs": [
        {
          "output_type": "execute_result",
          "data": {
            "text/html": [
              "<div>\n",
              "<style scoped>\n",
              "    .dataframe tbody tr th:only-of-type {\n",
              "        vertical-align: middle;\n",
              "    }\n",
              "\n",
              "    .dataframe tbody tr th {\n",
              "        vertical-align: top;\n",
              "    }\n",
              "\n",
              "    .dataframe thead th {\n",
              "        text-align: right;\n",
              "    }\n",
              "</style>\n",
              "<table border=\"1\" class=\"dataframe\">\n",
              "  <thead>\n",
              "    <tr style=\"text-align: right;\">\n",
              "      <th></th>\n",
              "      <th>label_id</th>\n",
              "    </tr>\n",
              "    <tr>\n",
              "      <th>sku_id</th>\n",
              "      <th></th>\n",
              "    </tr>\n",
              "  </thead>\n",
              "  <tbody>\n",
              "    <tr>\n",
              "      <th>193691</th>\n",
              "      <td>4</td>\n",
              "    </tr>\n",
              "    <tr>\n",
              "      <th>194042</th>\n",
              "      <td>1</td>\n",
              "    </tr>\n",
              "    <tr>\n",
              "      <th>225668</th>\n",
              "      <td>1</td>\n",
              "    </tr>\n",
              "    <tr>\n",
              "      <th>351205</th>\n",
              "      <td>1</td>\n",
              "    </tr>\n",
              "    <tr>\n",
              "      <th>374160</th>\n",
              "      <td>1</td>\n",
              "    </tr>\n",
              "  </tbody>\n",
              "</table>\n",
              "</div>"
            ],
            "text/plain": [
              "        label_id\n",
              "sku_id          \n",
              "193691         4\n",
              "194042         1\n",
              "225668         1\n",
              "351205         1\n",
              "374160         1"
            ]
          },
          "metadata": {},
          "execution_count": 83
        }
      ]
    },
    {
      "cell_type": "code",
      "metadata": {
        "id": "hMhMVX8h3WUZ"
      },
      "source": [
        "template.to_csv('/content/gdrive/MyDrive/Euromonitor/predictions.csv')"
      ],
      "execution_count": 84,
      "outputs": []
    }
  ]
}